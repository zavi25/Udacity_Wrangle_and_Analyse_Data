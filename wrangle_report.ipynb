{
 "cells": [
  {
   "cell_type": "markdown",
   "metadata": {},
   "source": [
    "# Wrangle Report"
   ]
  },
  {
   "cell_type": "markdown",
   "metadata": {},
   "source": [
    "The project focused on wrangling data from the 'WeRateDogs' account on twitter. The efforts put into the wrangling process are highlighted below:\n",
    "\n",
    "- Data Gathering\n",
    "\n",
    "- Assessing the Data\n",
    "\n",
    "- Cleaning the Data\n",
    "\n",
    "- Analysing the Data\n",
    "\n",
    "- Visualising the Data"
   ]
  },
  {
   "cell_type": "markdown",
   "metadata": {},
   "source": [
    "## Data Gathering\n",
    "\n",
    "The data was gathered from three different sources:\n",
    "1. A twitter-archived csv file containing information about the kind of dog per dogsize, wheter the tweet was a retweet and the day and time of the tweet. it was then loaded into a pandas dataframe\n",
    "\n",
    "2. An Image predictions tsv file that was downloaded programmatically using the requests library of which a folder was created for and the file was loaded into a pandas dataframe\n",
    "\n",
    "3. Additional twitter API data, an alternative approach was used as made available to me via the tweet-json text file and the code provided to load the data was used."
   ]
  },
  {
   "cell_type": "markdown",
   "metadata": {},
   "source": [
    "## Assessing the Data\n",
    "\n",
    "All data were assessed via two main approaches, the virtual assessment and the programatic assessment which required the use of some pandas functions to describe, summarise the data. The quality issues found were documented as well as the tidyness issues.\n",
    "\n",
    "The issues are highlighted as below:"
   ]
  },
  {
   "cell_type": "markdown",
   "metadata": {},
   "source": [
    "### Quality issues\n",
    "1. Twitter Archived - rating_denominator has values other than the normal value of 10 in some cases\n",
    "\n",
    "2. Twitter Archived - Some records have entries for retweeted_status_id\n",
    "\n",
    "3. Twitter Archived - Missing data in in_reply_to_status_id, in_reply_to_user_id, retweeted_status_id,       retweeted_status_user_id, retweeted_status_timestamp, expanded_urls  \n",
    "\n",
    "4. Twitter Archived - timestamp and retweeted_status_timestamp are object type instead of datatime type\n",
    "\n",
    "5. Twitter Archived - text in source column contains href tag and un-needed twitter url\n",
    "\n",
    "6. tweet_id column are off integer data type\n",
    "\n",
    "7. Twitter Archived - inconsistent records found in expanded_url column like 'https://www.gofundme.com/mingusneedsus,https:/..'\n",
    "\n",
    "8. Twitter Archieved - records like 'None','a','an' found in the name column which is unlikely in reality, inconsitent     alphabetic case"
   ]
  },
  {
   "cell_type": "markdown",
   "metadata": {},
   "source": [
    "### Tidiness issues\n",
    "1. Twitter Archived - doggo,floofer,pupper,puppo columns representing dog sizes are captured in four different columns\n",
    "\n",
    "2. Twitter Archived - timestamp column break the tidiness rule 'Each variable forms a column', it has two variables date and time\n",
    "\n",
    "3. Separate dataframes 'twitter archived, image predictions, twitter API data' containing the desired information."
   ]
  },
  {
   "cell_type": "markdown",
   "metadata": {},
   "source": [
    "## Cleaning the Data\n",
    "\n",
    "Copy's of the original dataframes were created and the copied dataframe was then cleaned after assessment to resolve both quality and tidyness issues found. Aftwards the three dataframes were combined and saved into one master csv file. This is an important step as to ensure we are able to find the right insights while analysing the data."
   ]
  },
  {
   "cell_type": "markdown",
   "metadata": {},
   "source": [
    "## Analysing the Data\n",
    "\n",
    "The data was further analysed using a number of pandas methods as well as other python functions to find notable insights within the data."
   ]
  },
  {
   "cell_type": "markdown",
   "metadata": {},
   "source": [
    "## Visualising the Data\n",
    "\n",
    "After analysis the insights found were then translated into visuals using charts and graphs by pandas plot function. Visualising this insights is an important step in communicating them to the various stakeholders."
   ]
  }
 ],
 "metadata": {
  "kernelspec": {
   "display_name": "Python 3",
   "language": "python",
   "name": "python3"
  },
  "language_info": {
   "codemirror_mode": {
    "name": "ipython",
    "version": 3
   },
   "file_extension": ".py",
   "mimetype": "text/x-python",
   "name": "python",
   "nbconvert_exporter": "python",
   "pygments_lexer": "ipython3",
   "version": "3.6.3"
  }
 },
 "nbformat": 4,
 "nbformat_minor": 2
}
